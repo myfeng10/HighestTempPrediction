{
  "cells": [
    {
      "cell_type": "markdown",
      "metadata": {},
      "source": [
        "# Summary\n",
        "## __Michelle Yilin Feng U93013798__\n",
        "\n",
        "This notebook summarizes __1. the ways I get data from 5 sources, 2. cleaning data, 3. applying ML models, and 4. automation with Kalshi api__.\n",
        "At the beginning of each step, detailed explanation and code are provided. \n",
        "\n",
        "Regarding the results, I found that statistical forecasting produces the most reasonable outcomes. At least, from my observations, predictions from other models (such as linear regression, ridge regression, or neural networks) are not able to grasp sequential patterns as well as statistical forecasting. Therefore, I used SARIMA (one type of statistical forecasting) to make predictions and submit orders through the Kalshi API.\n",
        "\n",
        "\n",
        "Regarding the other folders inside the zip folder:\n",
        "- The __data folder__ contains all the historical data I fetched from the 5 data sources.\n",
        "- The __API folder__ stores the code that I actually used to fetch all the historical data; I copied them to part 1 for clarity.\n",
        "- The __aggregate folder__ contains the CSV for the aggregation of specific features for a city that I created in part 2, step 1.\n",
        "- The __other four CSVs__ located in the root directory (austin_aggregate.csv, etc.) are the final CSVs that I used to train models.\n",
        "- the __utility.py__ stores some helper function used by the files inside API folder\n",
        "- the __KalshiScreenShot__ folder stores the image for screenshots that are displayed in the following\n",
        "\n",
        "\n",
        "Here are the screenshots of Kalshi activity for each week. I cannot find a better way to show my account balance, but the earnings in the bottom right corner should provide some insight into the accuracy of my predictions."
      ]
    },
    {
      "cell_type": "markdown",
      "metadata": {},
      "source": [
        "![alt text](ScreenShot/KalshiWeek1.png)\n",
        "![KalshiWeek3 screenshot](ScreenShot/KalshiWeek2.png)\n",
        "![KalshiWeek3 screenshot](ScreenShot/KalshiWeek3.png)"
      ]
    },
    {
      "cell_type": "markdown",
      "metadata": {},
      "source": [
        "\n",
        "Possible Reasons Why the Earnings Are 0 for 3/28 and 3/30:\n",
        "\n",
        "- The data is not up to date.\n",
        "I used to statistical forecasting (SARIMA and Exponential Smoothing) to predict the temperature. The historical data ranges only from 04-01-2023 to 03-24-2024. Therefore, the earnings for the days closer to 03-24-2024 are higher compared to the days that are farther away."
      ]
    },
    {
      "cell_type": "markdown",
      "metadata": {},
      "source": [
        "# Part 3: Appy ML models\n",
        "\n",
        "- I implemented some basic ML models (linear regression, ridge regression, etc.) and realized they are not very effective in predicting results for a specific day.\n",
        "- I then switched to statistical forecasting (SARIMA and Exponential Smoothing) and discovered that they are very proficient at predicting the highest temperature for a day. Specifically, the historical data ranges from 04-01-2023 to 03-24-2024. If I want to predict the highest temperature for 03-26-2024, it's not necessary to update the historical data up to 03-25-2024 to make a prediction. Of course, the prediction would not be as accurate compared to if I updated the historical dataset. However, the performance is significantly better than the other models I have tried."
      ]
    },
    {
      "cell_type": "markdown",
      "metadata": {
        "id": "sL6RCD5eqtmS"
      },
      "source": [
        "# Part 0: install dependencies and read csv files\n"
      ]
    },
    {
      "cell_type": "code",
      "execution_count": 1,
      "metadata": {
        "colab": {
          "base_uri": "https://localhost:8080/"
        },
        "id": "geiv4rMBgmXu",
        "outputId": "e51b5050-f7f5-4f3f-fe33-8dd60e80a6ca"
      },
      "outputs": [],
      "source": [
        "# !pip install openmeteo_requests\n",
        "# !pip install requests_cache\n",
        "# !pip install retry_requests\n",
        "# !pip install tensorflow\n",
        "# !pip install pandas\n",
        "# !pip install requests"
      ]
    },
    {
      "cell_type": "code",
      "execution_count": 2,
      "metadata": {
        "id": "AIlfPG4r0qPi"
      },
      "outputs": [],
      "source": [
        "import pandas as pd\n",
        "from datetime import datetime, timedelta\n",
        "\n",
        "# for saving files as csv\n",
        "import os\n",
        "import requests\n",
        "import pandas as pd\n",
        "import datetime\n",
        "import openmeteo_requests\n",
        "import requests_cache\n",
        "from retry_requests import retry"
      ]
    },
    {
      "cell_type": "markdown",
      "metadata": {
        "id": "E8-Ij_9-jZRN"
      },
      "source": [
        "# Part 1. Get Data From 5 Data Sources\n",
        "- I was able to obtain data from five sources: Weather API, OpenMeteo, OpenWeather, World Weather Online, and Virtual Crossing. For all sources except OpenMeteo (due to free tier limitations), the data I fetched ranges from 2023-04-01 to 2024-03-24. For all sources except Virtual Crossing, I obtained the data by using their API. For Virtual Crossing, they offer an online UI to send API requests, and I have obtained a screenshot of how that looks in the following section.\n",
        "\n",
        "- The historical data fetched was stored in the data folder."
      ]
    },
    {
      "cell_type": "code",
      "execution_count": 3,
      "metadata": {
        "id": "biMg2fryfC2T"
      },
      "outputs": [],
      "source": [
        "def save_to_csv(df, filename, path):\n",
        "    \"\"\"\n",
        "      save a pandas DataFrame (df) to a CSV file, with the flexibility to either create a new file or append to an existing one.\n",
        "    \"\"\"\n",
        "    current_script_path = os.path.dirname(os.path.abspath(__file__))\n",
        "    full_dir_path = os.path.join(current_script_path, '..', path)\n",
        "    if not os.path.exists(full_dir_path):\n",
        "        os.makedirs(full_dir_path)\n",
        "    full_file_path = os.path.join(full_dir_path, filename)\n",
        "    file_exists = os.path.isfile(full_file_path)\n",
        "    df.to_csv(full_file_path, mode='a' if file_exists else 'w', header=not file_exists, index=False)"
      ]
    },
    {
      "cell_type": "markdown",
      "metadata": {
        "id": "4te1ZN5Xe9G9"
      },
      "source": [
        "## 1. weatherApi https://www.weatherapi.com/docs/\n",
        "\n",
        "- Due to the limitation on the number of API requests I can send, I have saved data from **2023-04-01** up to the present.\n",
        "- I use getAllHistory to fetch information from April 1, 2023, to March 17, 2024. For the subsequent days, I use getDailyUpdate to obtain new data.\n",
        "This applies to other sources\n"
      ]
    },
    {
      "cell_type": "code",
      "execution_count": 4,
      "metadata": {
        "id": "SbjkKPsDfU2T"
      },
      "outputs": [],
      "source": [
        "def weatherApi_history(zipcode,date,city):\n",
        "    \"\"\"\n",
        "      retrieves and saves historical weather data for a specified location and date\n",
        "    \"\"\"\n",
        "\n",
        "    url = \"http://api.weatherapi.com/v1/history.json\"\n",
        "    parameters = {\n",
        "        \"key\": \"placeholder\",\n",
        "        \"q\": zipcode,\n",
        "        \"dt\": date,\n",
        "    }\n",
        "    response = requests.get(url, params=parameters)\n",
        "    if response.status_code == 200:\n",
        "        data = response.json()\n",
        "        print(data)\n",
        "        forecast_df = pd.json_normalize(data['forecast']['forecastday'], sep='_')\n",
        "        filename = f\"{city}_weatherApi.csv\"\n",
        "        save_to_csv(forecast_df, filename,path=\"data/weatherApi\")\n",
        "    else:\n",
        "        print(f\"Error: {response.status_code}, {response.text}\")\n",
        "\n",
        "def weatherApi_getAllHistory(zipcode,city):\n",
        "    \"\"\"\n",
        "      iterates over a defined date range to collect weather data for a particular location\n",
        "    \"\"\"\n",
        "    start_date = datetime.date(2023, 4, 1)\n",
        "    end_date = datetime.date(2024, 3, 17)\n",
        "    current_date = start_date\n",
        "\n",
        "    while current_date <= end_date:\n",
        "        date_str = current_date.strftime('%Y-%m-%d')\n",
        "        weatherApi_history(zipcode, date_str, city)\n",
        "        current_date += datetime.timedelta(days=1)\n",
        "\n",
        "def weatherApi_getDailyUpdate(date):\n",
        "    \"\"\"\n",
        "      fetches and updates daily weather data for multiple predefined locations\n",
        "    \"\"\"\n",
        "    weatherApi_history(10023,date,\"ny\")\n",
        "    weatherApi_history(78719,date,\"austin\")\n",
        "    weatherApi_history(33142,date,\"miami\")\n",
        "    weatherApi_history(60638,date,\"chicago\")"
      ]
    },
    {
      "cell_type": "markdown",
      "metadata": {
        "id": "tHhmuzLqfYAe"
      },
      "source": [
        "## 2. OpenMetero https://open-meteo.com/en/docs/\n",
        "\n",
        "- Due to the availability of historical data that OpenMeteo provides, I have saved data from **October 11, 2023**, up to the present."
      ]
    },
    {
      "cell_type": "code",
      "execution_count": 5,
      "metadata": {
        "id": "xv1MPPuBfnGc"
      },
      "outputs": [],
      "source": [
        "# Setup the Open-Meteo API client with cache and retry on error\n",
        "cache_session = requests_cache.CachedSession('.cache', expire_after = 3600)\n",
        "retry_session = retry(cache_session, retries = 5, backoff_factor = 0.2)\n",
        "openmeteo = openmeteo_requests.Client(session = retry_session)\n",
        "\n",
        "def getOpenMeteo(lat,lon,city,startDate,endDate):\n",
        "    url = \"https://api.open-meteo.com/v1/forecast\"\n",
        "    params = {\n",
        "        \"latitude\": lat,\n",
        "        \"longitude\": lon,\n",
        "        \"daily\": [\"weather_code\", \"temperature_2m_max\", \"temperature_2m_min\", \"apparent_temperature_max\", \"apparent_temperature_min\", \"sunrise\", \"sunset\", \"daylight_duration\", \"sunshine_duration\", \"uv_index_max\", \"uv_index_clear_sky_max\", \"precipitation_sum\", \"rain_sum\", \"showers_sum\", \"snowfall_sum\", \"precipitation_hours\", \"precipitation_probability_max\", \"wind_speed_10m_max\", \"wind_gusts_10m_max\", \"wind_direction_10m_dominant\", \"shortwave_radiation_sum\", \"et0_fao_evapotranspiration\"],\n",
        "        \"timezone\": \"America/New_York\",\n",
        "        \"start_date\": startDate,\n",
        "        \"end_date\": endDate\n",
        "    }\n",
        "    responses = openmeteo.weather_api(url, params=params)\n",
        "\n",
        "    # Process first location. Add a for-loop for multiple locations or weather models\n",
        "    response = responses[0]\n",
        "\n",
        "    # Process daily data. The order of variables needs to be the same as requested.\n",
        "    daily = response.Daily()\n",
        "    daily_weather_code = daily.Variables(0).ValuesAsNumpy()\n",
        "    daily_temperature_2m_max = daily.Variables(1).ValuesAsNumpy()\n",
        "    daily_temperature_2m_min = daily.Variables(2).ValuesAsNumpy()\n",
        "    daily_apparent_temperature_max = daily.Variables(3).ValuesAsNumpy()\n",
        "    daily_apparent_temperature_min = daily.Variables(4).ValuesAsNumpy()\n",
        "    daily_sunrise = daily.Variables(5).ValuesAsNumpy()\n",
        "    daily_sunset = daily.Variables(6).ValuesAsNumpy()\n",
        "    daily_daylight_duration = daily.Variables(7).ValuesAsNumpy()\n",
        "    daily_sunshine_duration = daily.Variables(8).ValuesAsNumpy()\n",
        "    daily_uv_index_max = daily.Variables(9).ValuesAsNumpy()\n",
        "    daily_uv_index_clear_sky_max = daily.Variables(10).ValuesAsNumpy()\n",
        "    daily_precipitation_sum = daily.Variables(11).ValuesAsNumpy()\n",
        "    daily_rain_sum = daily.Variables(12).ValuesAsNumpy()\n",
        "    daily_showers_sum = daily.Variables(13).ValuesAsNumpy()\n",
        "    daily_snowfall_sum = daily.Variables(14).ValuesAsNumpy()\n",
        "    daily_precipitation_hours = daily.Variables(15).ValuesAsNumpy()\n",
        "    daily_precipitation_probability_max = daily.Variables(16).ValuesAsNumpy()\n",
        "    daily_wind_speed_10m_max = daily.Variables(17).ValuesAsNumpy()\n",
        "    daily_wind_gusts_10m_max = daily.Variables(18).ValuesAsNumpy()\n",
        "    daily_wind_direction_10m_dominant = daily.Variables(19).ValuesAsNumpy()\n",
        "    daily_shortwave_radiation_sum = daily.Variables(20).ValuesAsNumpy()\n",
        "    daily_et0_fao_evapotranspiration = daily.Variables(21).ValuesAsNumpy()\n",
        "\n",
        "    daily_data = {\"date\": pd.date_range(\n",
        "        start = pd.to_datetime(daily.Time(), unit = \"s\", utc = True),\n",
        "        end = pd.to_datetime(daily.TimeEnd(), unit = \"s\", utc = True),\n",
        "        freq = pd.Timedelta(seconds = daily.Interval()),\n",
        "        inclusive = \"left\"\n",
        "    )}\n",
        "    daily_data[\"weather_code\"] = daily_weather_code\n",
        "    daily_data[\"temperature_2m_max\"] = daily_temperature_2m_max\n",
        "    daily_data[\"temperature_2m_min\"] = daily_temperature_2m_min\n",
        "    daily_data[\"apparent_temperature_max\"] = daily_apparent_temperature_max\n",
        "    daily_data[\"apparent_temperature_min\"] = daily_apparent_temperature_min\n",
        "    daily_data[\"sunrise\"] = daily_sunrise\n",
        "    daily_data[\"sunset\"] = daily_sunset\n",
        "    daily_data[\"daylight_duration\"] = daily_daylight_duration\n",
        "    daily_data[\"sunshine_duration\"] = daily_sunshine_duration\n",
        "    daily_data[\"uv_index_max\"] = daily_uv_index_max\n",
        "    daily_data[\"uv_index_clear_sky_max\"] = daily_uv_index_clear_sky_max\n",
        "    daily_data[\"precipitation_sum\"] = daily_precipitation_sum\n",
        "    daily_data[\"rain_sum\"] = daily_rain_sum\n",
        "    daily_data[\"showers_sum\"] = daily_showers_sum\n",
        "    daily_data[\"snowfall_sum\"] = daily_snowfall_sum\n",
        "    daily_data[\"precipitation_hours\"] = daily_precipitation_hours\n",
        "    daily_data[\"precipitation_probability_max\"] = daily_precipitation_probability_max\n",
        "    daily_data[\"wind_speed_10m_max\"] = daily_wind_speed_10m_max\n",
        "    daily_data[\"wind_gusts_10m_max\"] = daily_wind_gusts_10m_max\n",
        "    daily_data[\"wind_direction_10m_dominant\"] = daily_wind_direction_10m_dominant\n",
        "    daily_data[\"shortwave_radiation_sum\"] = daily_shortwave_radiation_sum\n",
        "    daily_data[\"et0_fao_evapotranspiration\"] = daily_et0_fao_evapotranspiration\n",
        "\n",
        "    daily_dataframe = pd.DataFrame(data = daily_data)\n",
        "    filename = f\"{city}_openMeteo.csv\"\n",
        "    save_to_csv(daily_dataframe, filename,path=\"data/openMeteo\")\n",
        "\n",
        "def openMeteo_getHistoricDate(startDate,endDate):\n",
        "    getOpenMeteo(40.77373,-73.98007,\"ny\",startDate,endDate)\n",
        "    getOpenMeteo(30.14440,-97.66876,\"austin\",startDate,endDate)\n",
        "    getOpenMeteo(25.81253,-80.24044,\"miami\",startDate,endDate)\n",
        "    getOpenMeteo(41.78701,-87.77166,\"chicago\",startDate,endDate)\n",
        "\n",
        "def openMeteo_getDailyUpdate(date):\n",
        "    getOpenMeteo(40.7128,-74.0060,\"ny\",date,date)\n",
        "    getOpenMeteo(30.14440,-97.66876,\"austin\",date,date)\n",
        "    getOpenMeteo(25.81253,-80.24044,\"miami\",date,date)\n",
        "    getOpenMeteo(41.78701,-87.77166,\"chicago\",date,date)"
      ]
    },
    {
      "cell_type": "markdown",
      "metadata": {
        "id": "6CnevUA8fm9v"
      },
      "source": [
        "## 3. OpenWeather https://openweathermap.org/api/one-call-3\n",
        "\n",
        "- Due to the limitation on the number of API requests I can send, I have saved data from **2023-04-01** up to the present."
      ]
    },
    {
      "cell_type": "code",
      "execution_count": 6,
      "metadata": {
        "id": "565NmKqxfzT6"
      },
      "outputs": [],
      "source": [
        "api_key = 'placeholder'\n",
        "\n",
        "def getOpenWeather(lat,lon,city,date):\n",
        "    units = 'metric'\n",
        "    # Construct the URL with the parameters\n",
        "    url = f'https://api.openweathermap.org/data/3.0/onecall/day_summary?lat={lat}&lon={lon}&date={date}&units={units}&appid={api_key}'\n",
        "    response = requests.get(url)\n",
        "\n",
        "    if response.status_code == 200:\n",
        "        data = response.json()\n",
        "        df = pd.json_normalize([data])\n",
        "        filename = f\"{city}_openWeather.csv\"\n",
        "        df.to_csv(filename, index=False)\n",
        "    else:\n",
        "        print(f\"Error: {response.status_code}, {response.text}\")\n",
        "\n",
        "def openWeather_getAllHistory(lat,lon,city):\n",
        "    start_date = datetime(2023, 4, 1)\n",
        "    end_date = datetime(2024, 3, 17)\n",
        "    current_date = start_date\n",
        "\n",
        "    while current_date <= end_date:\n",
        "        date_str = current_date.strftime('%Y-%m-%d')\n",
        "        getOpenWeather(lat,lon,city,date_str)\n",
        "        current_date += timedelta(days=1)\n",
        "\n",
        "def openWeather_getDailyUpdate(date):\n",
        "    getOpenWeather(40.77373,-73.98007,\"ny\",date)\n",
        "    getOpenWeather(30.14440,-97.66876,\"austin\",date)\n",
        "    getOpenWeather(25.81253,-80.24044,\"miami\",date)\n",
        "    getOpenWeather(41.78701,-87.77166,\"chicago\",date)"
      ]
    },
    {
      "cell_type": "markdown",
      "metadata": {
        "id": "9zpauSOzivGZ"
      },
      "source": [
        "## 4. World Weather Online https://www.worldweatheronline.com/weather-api/api/docs/historical-weather-api.aspx\n"
      ]
    },
    {
      "cell_type": "code",
      "execution_count": 7,
      "metadata": {
        "id": "aOv8lu9VjF3-"
      },
      "outputs": [],
      "source": [
        "\n",
        "# Your API key from World Weather Online\n",
        "api_key = 'placeholder'\n",
        "\n",
        "def wordWeatherApi(q,date,city):\n",
        "    base_url = \"https://api.worldweatheronline.com/premium/v1/past-weather.ashx\"\n",
        "    params = {\n",
        "        \"q\": q,\n",
        "        \"date\": date,\n",
        "        \"tp\": \"1\",\n",
        "        \"format\": \"json\",\n",
        "        \"key\": api_key,\n",
        "    }\n",
        "    response = requests.get(base_url, params=params)\n",
        "    if response.status_code == 200:\n",
        "        data = response.json()\n",
        "        df = pd.json_normalize([data['data']['weather'][0]])\n",
        "\n",
        "        filename = f\"{city}_worldWeatherOnline.csv\"\n",
        "        save_to_csv(df, filename,path=\"data/worldWeatherOnline\")\n",
        "    else:\n",
        "        print(\"Failed to retrieve data:\", response.status_code)\n",
        "\n",
        "def worldWeatherOnline_saveAllHistory(q,city):\n",
        "    start_date = datetime(2023, 4, 1)\n",
        "    end_date = datetime(2024, 3, 17)\n",
        "    current_date = start_date\n",
        "    while current_date <= end_date:\n",
        "        date_str = current_date.strftime('%Y-%m-%d')\n",
        "        wordWeatherApi(q,city,date_str)\n",
        "        current_date += timedelta(days=1)\n",
        "\n",
        "def worldWeatherOnline_getDailyUpdate(date):\n",
        "    wordWeatherApi(10023,date,\"ny\")\n",
        "    wordWeatherApi(78719,date,\"austin\")\n",
        "    wordWeatherApi(33142,date,\"miami\")\n",
        "    wordWeatherApi(60638,date,\"chicago\")"
      ]
    },
    {
      "cell_type": "markdown",
      "metadata": {
        "id": "jaoQxtqBhNyB"
      },
      "source": [
        "## 5. Virtual Crossing https://www.visualcrossing.com/weather-data\n",
        "\n",
        " - can be directly downloaded from website\n",
        "\n",
        " - Due to the limitation on the number of API requests I can send, I have saved data from **2023-04-01** up to the present.\n"
      ]
    },
    {
      "cell_type": "markdown",
      "metadata": {
        "id": "S3lLysfPil9a"
      },
      "source": [
        "![download from website.png](data:image/png;base64,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)"
      ]
    },
    {
      "cell_type": "markdown",
      "metadata": {
        "id": "2nFLenqlYeff"
      },
      "source": [
        "# Part 2: Cleaning Data"
      ]
    },
    {
      "cell_type": "markdown",
      "metadata": {
        "id": "Hvb_BMIDTNyy"
      },
      "source": [
        "## Step 1: Renaming Every Feature + Creating CSVs for Every Feature\n",
        "\n",
        "### challenge 1: different naming for same feature among different sources\n",
        "From every data source, I renamed their features to match the final one.\n",
        "\n",
        "- For example: Different sources may have different names for the same feature (e.g., \"temperature_2m_max\", \"day_maxtemp_c\", \"tempmax\", \"temperature.max\", \"maxtempC\"). I renamed them into \"max_temp\"\n",
        "\n",
        "### challenge 2: differnt unit for the same features among different sources\n",
        "\n",
        "I make sure that the unit accorss every sources are align\n",
        "\n",
        "- For example, for windspeed unit, since source beside openWeather are using kph instead of mps, I convert openWeather's result to kph\n",
        "\n",
        "Once features are renamed, I create separate CSV files for each feature, putting the data into them.\n",
        "\n",
        "- Each CSV file will contain the data for a single feature from all sources. The csv files are stored under the aggregate folder\n",
        "\n",
        "\n",
        "### Challenge 3: Incorrect outcomes encountered when handling features with datetime information, such as sunset and sunrise.\n",
        "The feature I selected are the maximum temperature, minimum temperature, maximum apparent temperature, minimum apparent temperature, time for sun rise, time for sun set, total precipitation, and wind speed\n",
        "\n",
        "- I ended up removing the times for sunrise and sunset because their formats are a bit different. I tried to calculate the mean time from all sources and convert them into numerical values for models to accept. However, this process resulted in obviously incorrect outcomes.\n",
        "\n",
        "![picture for conversion example](ScreenShot/sunriseSet.png)\n",
        "\n",
        "As you can see in the picture, I calculate the mean of the datetime values for sunset and sunrise, and then convert them to numerical values. I then convert them to a readable date format and realize that they are significantly incorrect. For example, in the second row, the data is for 4/2, but the sunset time is 4/1."
      ]
    },
    {
      "cell_type": "code",
      "execution_count": 2,
      "metadata": {
        "id": "ZgZq6Ft6YEYZ"
      },
      "outputs": [],
      "source": [
        "\"\"\"\n",
        "    code that create the aggregate csv files for each feature\n",
        "\"\"\"\n",
        "def create_max_temp_csv(openMeteo, weatherApi, virtualCrossing, openWeather, worldWeather,city):\n",
        "    # rename all col to: max_temp\n",
        "    openMeteo = openMeteo.rename(columns={\"temperature_2m_max\": \"openMeteo_max_temp\"})\n",
        "    weatherApi = weatherApi.rename(columns={\"day_maxtemp_c\": \"weatherApi_max_temp\"})\n",
        "    virtualCrossing = virtualCrossing.rename(columns={\"tempmax\": \"virtualCrossing_max_temp\"})\n",
        "    openWeather = openWeather.rename(columns={\"temperature.max\": \"openWeather_max_temp\"})\n",
        "    worldWeather = worldWeather.rename(columns={\"maxtempC\": \"worldWeather_max_temp\"})\n",
        "\n",
        "    # only concatenate the max_temp col\n",
        "    max_temp_aggregate = pd.concat([\n",
        "        openMeteo['openMeteo_max_temp'],\n",
        "        weatherApi['weatherApi_max_temp'],\n",
        "        virtualCrossing['virtualCrossing_max_temp'],\n",
        "        openWeather['openWeather_max_temp'],\n",
        "        worldWeather['worldWeather_max_temp']\n",
        "    ], axis=1)\n",
        "\n",
        "    filename = f\"aggregate/{city}_max_temp_aggregate.csv\"\n",
        "    max_temp_aggregate.to_csv(filename, index=True)\n",
        "    # print(max_temp_aggregate)\n",
        "\n",
        "\n",
        "def create_min_temp_csv(openMeteo, weatherApi, virtualCrossing, openWeather, worldWeather,city):\n",
        "    # rename all col to: min_temp\n",
        "    openMeteo = openMeteo.rename(columns={\"temperature_2m_min\": \"openMeteo_min_temp\"})\n",
        "    weatherApi = weatherApi.rename(columns={\"day_mintemp_c\": \"weatherApi_min_temp\"})\n",
        "    virtualCrossing = virtualCrossing.rename(columns={\"tempmin\": \"virtualCrossing_min_temp\"})\n",
        "    openWeather = openWeather.rename(columns={\"temperature.min\": \"openWeather_min_temp\"})\n",
        "    worldWeather = worldWeather.rename(columns={\"mintempC\": \"worldWeather_min_temp\"})\n",
        "\n",
        "    # only concatenate the max_temp col\n",
        "    max_temp_aggregate = pd.concat([\n",
        "        openMeteo['openMeteo_min_temp'],\n",
        "        weatherApi['weatherApi_min_temp'],\n",
        "        virtualCrossing['virtualCrossing_min_temp'],\n",
        "        openWeather['openWeather_min_temp'],\n",
        "        worldWeather['worldWeather_min_temp']\n",
        "    ], axis=1)\n",
        "\n",
        "    filename = f\"aggregate/{city}_min_temp_aggregate.csv\"\n",
        "    max_temp_aggregate.to_csv(filename, index=True)\n",
        "    # print(max_temp_aggregate)\n",
        "\n",
        "\n",
        "def create_max_temp_csv(openMeteo, weatherApi, virtualCrossing, openWeather, worldWeather,city):\n",
        "    # rename all col to: max_temp\n",
        "    openMeteo = openMeteo.rename(columns={\"temperature_2m_max\": \"openMeteo_max_temp\"})\n",
        "    weatherApi = weatherApi.rename(columns={\"day_maxtemp_c\": \"weatherApi_max_temp\"})\n",
        "    virtualCrossing = virtualCrossing.rename(columns={\"tempmax\": \"virtualCrossing_max_temp\"})\n",
        "    openWeather = openWeather.rename(columns={\"temperature.max\": \"openWeather_max_temp\"})\n",
        "    worldWeather = worldWeather.rename(columns={\"maxtempC\": \"worldWeather_max_temp\"})\n",
        "\n",
        "    # only concatenate the max_temp col\n",
        "    max_temp_aggregate = pd.concat([\n",
        "        openMeteo['openMeteo_max_temp'],\n",
        "        weatherApi['weatherApi_max_temp'],\n",
        "        virtualCrossing['virtualCrossing_max_temp'],\n",
        "        openWeather['openWeather_max_temp'],\n",
        "        worldWeather['worldWeather_max_temp']\n",
        "    ], axis=1)\n",
        "\n",
        "    filename = f\"aggregate/{city}_max_temp_aggregate.csv\"\n",
        "    max_temp_aggregate.to_csv(filename, index=True)\n",
        "    # print(max_temp_aggregate)\n",
        "\n",
        "def create_max_apparent_temp_csv(openMeteo, weatherApi, virtualCrossing, openWeather, worldWeather,city):\n",
        "    # rename all col to: apparent_temp: only 2 sources have this information\n",
        "    openMeteo = openMeteo.rename(columns={\"apparent_temperature_max\": \"openMeteo_max_apparent_temp\"})\n",
        "    virtualCrossing = virtualCrossing.rename(columns={\"feelslikemax\": \"virtualCrossing_max_apparent_temp\"})\n",
        "\n",
        "    colName=\"_max_apparent_temp\"\n",
        "    # only concatenate the max_temp col\n",
        "    max_temp_aggregate = pd.concat([\n",
        "        openMeteo[f'openMeteo{colName}'],\n",
        "        virtualCrossing[f'virtualCrossing{colName}'],\n",
        "    ], axis=1)\n",
        "\n",
        "    filename = f\"aggregate/{city}{colName}_aggregate.csv\"\n",
        "    max_temp_aggregate.to_csv(filename, index=True)\n",
        "\n",
        "def create_min_apparent_temp_csv(openMeteo, weatherApi, virtualCrossing, openWeather, worldWeather,city):\n",
        "    # rename all col to: apparent_temp: only 2 sources have this information\n",
        "    openMeteo = openMeteo.rename(columns={\"apparent_temperature_min\": \"openMeteo_min_apparent_temp\"})\n",
        "    virtualCrossing = virtualCrossing.rename(columns={\"feelslikemin\": \"virtualCrossing_min_apparent_temp\"})\n",
        "\n",
        "    colName=\"_min_apparent_temp\"\n",
        "    # only concatenate the max_temp col\n",
        "    max_temp_aggregate = pd.concat([\n",
        "        openMeteo[f'openMeteo{colName}'],\n",
        "        virtualCrossing[f'virtualCrossing{colName}'],\n",
        "    ], axis=1)\n",
        "\n",
        "    filename = f\"aggregate/{city}{colName}_aggregate.csv\"\n",
        "    max_temp_aggregate.to_csv(filename, index=True)\n",
        "\n",
        "def create_sun_rise_csv(openMeteo, weatherApi, virtualCrossing, openWeather, worldWeather,city):\n",
        "    colName = \"_mean_sunrise\"\n",
        "    # rename all col to: mean_sunrise: only 2 sources have this information\n",
        "    # since averaging days formate is hard and it is unecessary to do this because both sources gives similar data, we just select one\n",
        "    weatherApi = weatherApi.rename(columns={\"astro_sunrise\": \"mean_sunrise\"})\n",
        "    sunrise_aggregate = pd.concat([\n",
        "        weatherApi['mean_sunrise'],\n",
        "    ], axis=1)\n",
        "    filename = f\"aggregate/{city}{colName}_aggregate.csv\"\n",
        "    sunrise_aggregate.to_csv(filename, index=True)\n",
        "\n",
        "def create_sun_set_csv(openMeteo, weatherApi, virtualCrossing, openWeather, worldWeather,city):\n",
        "    colName = \"_mean_sunset\"\n",
        "    virtualCrossing = virtualCrossing.rename(columns={\"sunset\": \"mean_sunset\"})\n",
        "    sunrise_aggregate = pd.concat([\n",
        "        virtualCrossing['mean_sunset'],\n",
        "    ], axis=1)\n",
        "    filename = f\"aggregate/{city}{colName}_aggregate.csv\"\n",
        "    sunrise_aggregate.to_csv(filename, index=True)\n",
        "\n",
        "def create_total_precipitation_csv(openMeteo, weatherApi, virtualCrossing, openWeather, worldWeather,city):\n",
        "    colName=\"_total_precipitation\"\n",
        "    # rename all col to: total_precipitation: only 4 sources have this information\n",
        "    openMeteo = openMeteo.rename(columns={\"precipitation_sum\": f\"openMeteo{colName}\"})\n",
        "    virtualCrossing = virtualCrossing.rename(columns={\"precip\": f\"virtualCrossing{colName}\"})\n",
        "    openWeather = openWeather.rename(columns={\"precipitation.total\": f\"openWeather{colName}\"})\n",
        "    weatherApi = weatherApi.rename(columns={\"day_totalprecip_mm\": f\"weatherApi{colName}\"})\n",
        "\n",
        "    total_precipitation_aggregate = pd.concat([\n",
        "        openMeteo[f'openMeteo{colName}'],\n",
        "        virtualCrossing[f'virtualCrossing{colName}'],\n",
        "        openWeather[f'openWeather{colName}'],\n",
        "        weatherApi[f'weatherApi{colName}'],\n",
        "    ], axis=1)\n",
        "\n",
        "    filename = f\"aggregate/{city}{colName}_aggregate.csv\"\n",
        "    total_precipitation_aggregate.to_csv(filename, index=True)\n",
        "\n",
        "def create_wind_speed_csv(openMeteo, weatherApi, virtualCrossing, openWeather, worldWeather,city):\n",
        "    colName=\"_wind_speed\"\n",
        "    # rename all col to: wind_speed: only 4 sources have this information\n",
        "    openMeteo = openMeteo.rename(columns={\"wind_speed_10m_max\": f\"openMeteo{colName}\"})\n",
        "    virtualCrossing = virtualCrossing.rename(columns={\"windspeed\": f\"virtualCrossing{colName}\"})\n",
        "    openWeather = openWeather.rename(columns={\"wind.max.speed\": f\"openWeather{colName}\"})\n",
        "    weatherApi = weatherApi.rename(columns={\"day_maxwind_kph\": f\"weatherApi{colName}\"})\n",
        "\n",
        "    # convert m/s to km/h\n",
        "    openWeather[f\"openWeather{colName}\"] = openWeather[f\"openWeather{colName}\"] * 3.6\n",
        "\n",
        "    wind_speed_aggregate = pd.concat([\n",
        "        openMeteo[f'openMeteo{colName}'],\n",
        "        virtualCrossing[f'virtualCrossing{colName}'],\n",
        "        openWeather[f'openWeather{colName}'],\n",
        "        weatherApi[f'weatherApi{colName}'],\n",
        "    ], axis=1)\n",
        "\n",
        "    filename = f\"aggregate/{city}{colName}_aggregate.csv\"\n",
        "    wind_speed_aggregate.to_csv(filename, index=True)\n",
        "\n"
      ]
    },
    {
      "cell_type": "markdown",
      "metadata": {
        "id": "PZsKMVZcTHoB"
      },
      "source": [
        "## Step 2: Calculating the Mean of the Columns Inside CSVs + Creating the Aggregate DataFrame\n",
        "For each CSV file, I calculate the mean of the columns. \n",
        "\n",
        "- This involves reading each CSV, computing the mean of each column, and storing the mean values.\n",
        "\n",
        "I then create an aggregate dataframe to combine the mean values of all features from different sources. The csv files is stored inside the aggregate directory\n",
        "\n",
        "- Each row in the aggregate dataframe will represent the mean values of all features across different sources."
      ]
    },
    {
      "cell_type": "code",
      "execution_count": 1,
      "metadata": {},
      "outputs": [],
      "source": [
        "def getAllCsv(city):\n",
        "    openMeteo = pd.read_csv(f'data/openMeteo/{city}_openMeteo.csv')\n",
        "    weatherApi = pd.read_csv(f'data/weatherApi/{city}_weatherApi.csv')\n",
        "    virtualCrossing = pd.read_csv(f'data/virtualCrossing/{city}_virtualCrossing.csv')\n",
        "    openWeather = pd.read_csv(f'data/openWeather/{city}_openWeather.csv')\n",
        "    worldWeather = pd.read_csv(f'data/worldWeatherOnline/{city}_worldWeatherOnline.csv')\n",
        "    return openMeteo, weatherApi, virtualCrossing, openWeather, worldWeather"
      ]
    },
    {
      "cell_type": "code",
      "execution_count": 41,
      "metadata": {
        "id": "yCf0PhNsYTAM"
      },
      "outputs": [],
      "source": [
        "def create_all_data_cvs(city):\n",
        "    openMeteo, weatherApi, virtualCrossing, openWeather, worldWeather = getAllCsv(city)\n",
        "\n",
        "    ## rename date + ensure consistant formatting\n",
        "    virtualCrossing = virtualCrossing.rename(columns={\"datetime\": \"date\"})\n",
        "    openMeteo['date'] = pd.to_datetime(openMeteo['date']).dt.strftime('%Y-%m-%d')\n",
        "\n",
        "    openMeteo.set_index('date', inplace=True)\n",
        "    weatherApi.set_index('date', inplace=True)\n",
        "    virtualCrossing.set_index('date', inplace=True)\n",
        "    openWeather.set_index('date', inplace=True)\n",
        "    worldWeather.set_index('date', inplace=True)\n",
        "\n",
        "\n",
        "    # When adding data, there's a risk of inadvertently adding the same day\n",
        "    # twice, such as by running the code multiple times. Since the date is set\n",
        "    # as the index, having duplicates could lead to problems, making it prudent\n",
        "    # to verify and address any duplicate keys.\n",
        "    data_frames = {\n",
        "    'worldWeather': worldWeather,\n",
        "    'openWeather': openWeather,\n",
        "    'virtualCrossing': virtualCrossing,\n",
        "    'weatherApi': weatherApi,\n",
        "    'openMeteo': openMeteo\n",
        "    }\n",
        "\n",
        "    for name, df in data_frames.items():\n",
        "        has_duplicates = df.index.duplicated().any()\n",
        "        if has_duplicates:\n",
        "            print(f\"{name} has duplicates: {has_duplicates}\")\n",
        "            duplicate_rows = df[df.duplicated()]\n",
        "            print(duplicate_rows)\n",
        "        else:\n",
        "            pass\n",
        "\n",
        "    ## creating csv files for each important col\n",
        "    create_max_temp_csv(openMeteo, weatherApi, virtualCrossing, openWeather, worldWeather,city)\n",
        "    create_min_temp_csv(openMeteo, weatherApi, virtualCrossing, openWeather, worldWeather,city)\n",
        "    create_max_apparent_temp_csv(openMeteo, weatherApi, virtualCrossing, openWeather, worldWeather,city)\n",
        "    create_min_apparent_temp_csv(openMeteo, weatherApi, virtualCrossing, openWeather, worldWeather,city)\n",
        "    create_sun_rise_csv(openMeteo, weatherApi, virtualCrossing, openWeather, worldWeather,city)\n",
        "    create_sun_set_csv(openMeteo, weatherApi, virtualCrossing, openWeather, worldWeather,city)\n",
        "\n",
        "    create_total_precipitation_csv(openMeteo, weatherApi, virtualCrossing, openWeather, worldWeather,city)\n",
        "    create_wind_speed_csv(openMeteo, weatherApi, virtualCrossing, openWeather, worldWeather,city)\n",
        "\n",
        "def create_aggregate_average_csv(city):\n",
        "    # create csv with individual features that we need\n",
        "    create_all_data_cvs(city)\n",
        "\n",
        "    # get access to the csv files\n",
        "    max_temp = pd.read_csv(f'aggregate/{city}_max_temp_aggregate.csv',index_col='date')\n",
        "    min_temp = pd.read_csv(f'aggregate/{city}_min_temp_aggregate.csv',index_col='date')\n",
        "    max_apprent_temp = pd.read_csv(f'aggregate/{city}_max_apparent_temp_aggregate.csv',index_col='date')\n",
        "    min_apparent_temp = pd.read_csv(f'aggregate/{city}_min_apparent_temp_aggregate.csv',index_col='date')\n",
        "    sunrise = pd.read_csv(f'aggregate/{city}_mean_sunrise_aggregate.csv',index_col='date')\n",
        "    sunset = pd.read_csv(f'aggregate/{city}_mean_sunset_aggregate.csv',index_col='date')\n",
        "    total_precipitation = pd.read_csv(f'aggregate/{city}_total_precipitation_aggregate.csv',index_col='date')\n",
        "    wind_speed = pd.read_csv(f'aggregate/{city}_wind_speed_aggregate.csv',index_col='date')\n",
        "\n",
        "    # getting the min of each value\n",
        "    max_temp_mean = max_temp.mean(axis=1, skipna=True).to_frame(name='mean_max_temp')\n",
        "    min_temp_mean = min_temp.mean(axis=1, skipna=True).to_frame(name='mean_min_temp')\n",
        "    max_apprent_temp_mean = max_apprent_temp.mean(axis=1, skipna=True).to_frame(name='mean_max_apparent_temp')\n",
        "    min_apparent_temp_mean = min_apparent_temp.mean(axis=1, skipna=True).to_frame(name='mean_min_apparent_temp')\n",
        "    sunrise_mean = sunrise\n",
        "    sunset_mean = sunset\n",
        "    total_precipitation_mean = total_precipitation.mean(axis=1, skipna=True).to_frame(name='mean_total_precipitation')\n",
        "    wind_speed_mean = wind_speed.mean(axis=1, skipna=True).to_frame(name='mean_wind_speed')\n",
        "\n",
        "    # form the aggregate average csv\n",
        "    # sunrise_mean, sunset_mean are temporarily removed because they are in string format\n",
        "    aggregate = pd.concat([max_temp_mean, min_temp_mean,max_apprent_temp_mean,min_apparent_temp_mean,total_precipitation_mean,wind_speed_mean], axis=1)\n",
        "\n",
        "    aggregate_csv = aggregate.to_csv(f'{city}_aggregate.csv', index=True, index_label='date')\n",
        "    return aggregate"
      ]
    },
    {
      "cell_type": "code",
      "execution_count": 44,
      "metadata": {
        "id": "QimJ2E8Z0jE4"
      },
      "outputs": [],
      "source": [
        "def getAllCsv(city):\n",
        "    openMeteo = pd.read_csv(f'data/openMeteo/{city}_openMeteo.csv')\n",
        "    weatherApi = pd.read_csv(f'data/weatherApi/{city}_weatherApi.csv')\n",
        "    virtualCrossing = pd.read_csv(f'data/virtualCrossing/{city}_virtualCrossing.csv')\n",
        "    openWeather = pd.read_csv(f'data/openWeather/{city}_openWeather.csv')\n",
        "    worldWeather = pd.read_csv(f'data/worldWeatherOnline/{city}_worldWeatherOnline.csv')\n",
        "    return openMeteo, weatherApi, virtualCrossing, openWeather, worldWeather"
      ]
    },
    {
      "cell_type": "markdown",
      "metadata": {
        "id": "cdrEfbXSOTXF"
      },
      "source": [
        "## Step 3: Generate the Final Aggregate DataFrame\n",
        "- This Aggregate DataFrame consolidates averaged data from five distinct sources and includes the five features I have selected from all sources. These features are: minimum temperature (min_temp), maximum apparent temperature (max_apparent_temp), minimum apparent temperature (min_apparent_temp), total precipitation (total_precipitation), and wind speed.\n",
        "\n",
        "The csv files is stored inside the root directory (eg: ny_aggregate.csv)"
      ]
    },
    {
      "cell_type": "code",
      "execution_count": 46,
      "metadata": {
        "colab": {
          "base_uri": "https://localhost:8080/"
        },
        "id": "vGBJ6RGHQSw-",
        "outputId": "0be1099f-c2be-4860-ec65-b28d2f2f1685"
      },
      "outputs": [
        {
          "name": "stdout",
          "output_type": "stream",
          "text": [
            "            mean_max_temp  mean_min_temp  mean_max_apparent_temp  \\\n",
            "date                                                               \n",
            "2023-04-01      14.010000         1.7025               12.200000   \n",
            "2023-04-02      12.752500        -0.7725               13.300000   \n",
            "2023-04-03      15.825000         6.0925               16.100000   \n",
            "2023-04-04      19.742500         6.0925               21.100000   \n",
            "2023-04-05      21.717500         7.6975               22.800000   \n",
            "...                   ...            ...                     ...   \n",
            "2024-03-20       8.255000         0.3825                3.210167   \n",
            "2024-03-21       4.172500        -1.5050                1.743288   \n",
            "2024-03-22       6.296667         0.1700                0.377850   \n",
            "2024-03-23       3.125000        -0.9150               -1.391434   \n",
            "2024-03-24       8.520000        -0.0800                3.738881   \n",
            "\n",
            "            mean_min_apparent_temp  mean_total_precipitation  mean_wind_speed  \n",
            "date                                                                           \n",
            "2023-04-01               -2.500000                  3.037667        38.798667  \n",
            "2023-04-02               -3.600000                  0.000000        31.412000  \n",
            "2023-04-03                4.700000                  2.966000        28.524000  \n",
            "2023-04-04                3.100000                  6.976000        29.833333  \n",
            "2023-04-05                0.800000                  9.025000        43.922667  \n",
            "...                            ...                       ...              ...  \n",
            "2024-03-20               -5.036402                  0.000000        26.557501  \n",
            "2024-03-21               -7.159212                  0.000000        18.534118  \n",
            "2024-03-22               -5.578467                  3.830000        19.465258  \n",
            "2024-03-23               -5.521892                  2.673333        23.642151  \n",
            "2024-03-24               -5.027493                  0.000000        22.336252  \n",
            "\n",
            "[359 rows x 6 columns]\n"
          ]
        }
      ],
      "source": [
        "ny_aggregate = create_aggregate_average_csv(\"ny\")\n",
        "chicago_aggregate = create_aggregate_average_csv(\"chicago\")\n",
        "austin_aggregate = create_aggregate_average_csv(\"austin\")\n",
        "miami_aggregate = create_aggregate_average_csv(\"miami\")\n",
        "\n",
        "print(chicago_aggregate)"
      ]
    },
    {
      "cell_type": "markdown",
      "metadata": {
        "id": "F72ak2ufq67U"
      },
      "source": [
        "# Part 3: Appy ML models\n",
        "\n",
        "- I implemented some basic ML models (linear regression, ridge regression, etc.) and realized they are not very effective in predicting results for a specific day.\n",
        "- I then switched to statistical forecasting (SARIMA and Exponential Smoothing) and discovered that they are very proficient at predicting the highest temperature for a day. Specifically, the historical data ranges from 04-01-2023 to 03-24-2024. If I want to predict the highest temperature for 03-26-2024, it's not necessary to update the historical data up to 03-25-2024 to make a prediction. Of course, the prediction would not be as accurate compared to if I updated the historical dataset. However, the performance is significantly better than the other models I have tried."
      ]
    },
    {
      "cell_type": "markdown",
      "metadata": {
        "id": "Y5-voRSHg3aO"
      },
      "source": [
        "## Step 0: Some Import Statements and Helper Functions"
      ]
    },
    {
      "cell_type": "code",
      "execution_count": 12,
      "metadata": {
        "id": "mXg1CuwLSICV"
      },
      "outputs": [
        {
          "name": "stderr",
          "output_type": "stream",
          "text": [
            "/Users/feng/opt/anaconda3/lib/python3.9/site-packages/scipy/__init__.py:146: UserWarning: A NumPy version >=1.16.5 and <1.23.0 is required for this version of SciPy (detected version 1.26.4\n",
            "  warnings.warn(f\"A NumPy version >={np_minversion} and <{np_maxversion}\"\n"
          ]
        }
      ],
      "source": [
        "import pandas as pd\n",
        "import numpy as np\n",
        "from sklearn.model_selection import train_test_split\n",
        "from sklearn.linear_model import LinearRegression, Ridge, Lasso\n",
        "from sklearn.tree import DecisionTreeRegressor\n",
        "from sklearn.ensemble import RandomForestRegressor, GradientBoostingRegressor\n",
        "from sklearn.svm import SVR\n",
        "from sklearn.neighbors import KNeighborsRegressor\n",
        "from sklearn.metrics import mean_squared_error"
      ]
    },
    {
      "cell_type": "code",
      "execution_count": 13,
      "metadata": {
        "id": "OWF38V76wdZj"
      },
      "outputs": [],
      "source": [
        "def celsius_to_fahrenheit(celsius):\n",
        "    return celsius * 9/5 + 32"
      ]
    },
    {
      "cell_type": "code",
      "execution_count": 14,
      "metadata": {
        "id": "trTNHdXA0hX1"
      },
      "outputs": [],
      "source": [
        "temp_ranges = {0:\"62° or below\", 1:\"63° to 64°\", 2:\"65° to 66°\", 3:\"67° to 68°\", 4:\"69° to 70°\", 5:\"71° or above\"}\n",
        "\n",
        "def classify_temperature(mean_temp):\n",
        "    if mean_temp <= 62:\n",
        "        return 0\n",
        "    elif 63 <= mean_temp <= 64:\n",
        "        return 1\n",
        "    elif 65 <= mean_temp <= 66:\n",
        "        return 2\n",
        "    elif 67 <= mean_temp <= 68:\n",
        "        return 3\n",
        "    elif 69 <= mean_temp <= 70:\n",
        "        return 4\n",
        "    else:\n",
        "        return 5\n",
        "\n",
        "def majority_classification(predictions):\n",
        "    counts = {temp_range: 0 for temp_range in temp_ranges}\n",
        "    for prediction in predictions:\n",
        "        counts[prediction] += 1\n",
        "    return max(counts, key=counts.get)"
      ]
    },
    {
      "cell_type": "markdown",
      "metadata": {
        "id": "G5XM0dD80KPE"
      },
      "source": [
        "## Step 1: Basic Models\n",
        "- not very helpful"
      ]
    },
    {
      "cell_type": "code",
      "execution_count": 15,
      "metadata": {
        "id": "DNTtjz-bT3fY"
      },
      "outputs": [],
      "source": [
        "def evaluate_models(dataframe, city_name):\n",
        "    X = dataframe.drop(columns=[\"mean_max_temp\"])\n",
        "    y = dataframe[\"mean_max_temp\"].apply(celsius_to_fahrenheit)  # Convert y values to Fahrenheit first\n",
        "\n",
        "    X_train, X_test, y_train, y_test = train_test_split(X, y, test_size=0.2, random_state=42)\n",
        "\n",
        "    models = {\n",
        "        'Linear Regression': LinearRegression(),\n",
        "        'Ridge Regression': Ridge(),\n",
        "        'Lasso Regression': Lasso(),\n",
        "        'Decision Tree': DecisionTreeRegressor(),\n",
        "        'Random Forest': RandomForestRegressor(),\n",
        "        'Gradient Boosting': GradientBoostingRegressor(),\n",
        "        'Support Vector Machine': SVR(),\n",
        "        'K-Nearest Neighbors': KNeighborsRegressor()\n",
        "    }\n",
        "    print(f\"\\nCity: {city_name}\")\n",
        "\n",
        "    model_classifications = []\n",
        "\n",
        "    for name, model in models.items():\n",
        "        model.fit(X_train, y_train)\n",
        "        y_pred = model.predict(X_test)\n",
        "\n",
        "        mean_pred_fahrenheit = np.mean(y_pred)\n",
        "        classification = classify_temperature(mean_pred_fahrenheit)\n",
        "\n",
        "        # print(f\"{name}: Mean prediction in Fahrenheit = {mean_pred_fahrenheit:.2f}, Classified as {temp_ranges[classification]}\")\n",
        "        model_classifications.append(classification)\n",
        "\n",
        "    # Majority classification\n",
        "    majority_class = majority_classification(model_classifications)\n",
        "    print(f\"Representative prediction for {city_name}: Classified as {temp_ranges[majority_class]}\")"
      ]
    },
    {
      "cell_type": "code",
      "execution_count": 16,
      "metadata": {
        "colab": {
          "base_uri": "https://localhost:8080/"
        },
        "id": "hc3MzzmOuNyr",
        "outputId": "8270919c-ffc8-4dd6-9fe0-fc28e7c6a2c3"
      },
      "outputs": [
        {
          "name": "stdout",
          "output_type": "stream",
          "text": [
            "\n",
            "City: New York\n",
            "Representative prediction for New York: Classified as 71° or above\n",
            "\n",
            "City: Chicago\n",
            "Representative prediction for Chicago: Classified as 63° to 64°\n",
            "\n",
            "City: Austin\n",
            "Representative prediction for Austin: Classified as 71° or above\n",
            "\n",
            "City: Miami\n",
            "Representative prediction for Miami: Classified as 71° or above\n"
          ]
        }
      ],
      "source": [
        "evaluate_models(ny_aggregate, \"New York\")\n",
        "evaluate_models(chicago_aggregate, \"Chicago\")\n",
        "evaluate_models(austin_aggregate, \"Austin\")\n",
        "evaluate_models(miami_aggregate, \"Miami\")"
      ]
    },
    {
      "cell_type": "markdown",
      "metadata": {
        "id": "oiiL3Fn8v2CH"
      },
      "source": [
        "## Step 2: Statistical forecasting"
      ]
    },
    {
      "cell_type": "markdown",
      "metadata": {
        "id": "seWUxBNRdLXp"
      },
      "source": [
        "### Sarima\n",
        "- used this for submitting **orders**"
      ]
    },
    {
      "cell_type": "code",
      "execution_count": 37,
      "metadata": {
        "id": "wtKbi2U3vKzL"
      },
      "outputs": [],
      "source": [
        "from statsmodels.tsa.statespace.sarimax import SARIMAX\n",
        "import pandas as pd\n",
        "\n",
        "def SARIMA(df, city, predicted_date):\n",
        "    df.index = pd.DatetimeIndex(df.index).to_period('D')\n",
        "\n",
        "    # Fit a SARIMA model\n",
        "    sarima_model = SARIMAX(df['mean_max_temp'], order=(1, 1, 1), seasonal_order=(1, 1, 1, 12))\n",
        "    sarima_result = sarima_model.fit(disp=False)\n",
        "\n",
        "    # Calculate the number of days to forecast\n",
        "    last_date = df.index.max().to_timestamp()  # Convert to timestamp to perform datetime subtraction\n",
        "    target_date = pd.to_datetime(predicted_date)\n",
        "    steps = (target_date - last_date).days\n",
        "\n",
        "    # Forecast for the required number of days\n",
        "    forecast = sarima_result.get_forecast(steps=steps)\n",
        "    predicted_temps = forecast.predicted_mean\n",
        "\n",
        "    # Get the forecasted temperature for the target date\n",
        "    predicted_temp = predicted_temps[-1]  # Last value is the target date prediction\n",
        "    predicted_temp_fahrenheit = celsius_to_fahrenheit(predicted_temp)\n",
        "\n",
        "    print(f\"City: {city}\")\n",
        "    print(f\"Predicted highest temperature for {target_date.strftime('%Y-%m-%d')}: {predicted_temp_fahrenheit}°F\")\n",
        "\n",
        "    return predicted_temp_fahrenheit"
      ]
    },
    {
      "cell_type": "code",
      "execution_count": 38,
      "metadata": {
        "colab": {
          "base_uri": "https://localhost:8080/",
          "height": 332
        },
        "id": "59O1cOmgvZXS",
        "outputId": "e566e1a4-5c53-4a3e-e41a-5fbc5f26f30f"
      },
      "outputs": [
        {
          "name": "stdout",
          "output_type": "stream",
          "text": [
            "City: New York\n",
            "Predicted highest temperature for 2024-03-26: 48.246463122609505°F\n",
            "City: Chicago\n",
            "Predicted highest temperature for 2024-03-26: 51.001582854427554°F\n",
            "City: Austin\n",
            "Predicted highest temperature for 2024-03-26: 72.5012849942897°F\n",
            "City: Miami\n",
            "Predicted highest temperature for 2024-03-26: 77.98719366664133°F\n"
          ]
        },
        {
          "data": {
            "text/plain": [
              "77.98719366664133"
            ]
          },
          "execution_count": 38,
          "metadata": {},
          "output_type": "execute_result"
        }
      ],
      "source": [
        "ny_aggregate = create_aggregate_average_csv(\"ny\")\n",
        "chicago_aggregate = create_aggregate_average_csv(\"chicago\")\n",
        "austin_aggregate = create_aggregate_average_csv(\"austin\")\n",
        "miami_aggregate = create_aggregate_average_csv(\"miami\")\n",
        "\n",
        "SARIMA(ny_aggregate, \"New York\",\"2024-03-26\")\n",
        "SARIMA(chicago_aggregate, \"Chicago\",\"2024-03-26\")\n",
        "SARIMA(austin_aggregate, \"Austin\",\"2024-03-26\")\n",
        "SARIMA(miami_aggregate, \"Miami\",\"2024-03-26\")"
      ]
    },
    {
      "cell_type": "markdown",
      "metadata": {
        "id": "V6OhWe5wdSqU"
      },
      "source": [
        "### Exponential Smoothing"
      ]
    },
    {
      "cell_type": "code",
      "execution_count": 19,
      "metadata": {
        "id": "0S3IG_U4x1CT"
      },
      "outputs": [],
      "source": [
        "from statsmodels.tsa.holtwinters import ExponentialSmoothing\n",
        "import pandas as pd\n",
        "def exponentialSmoothing(df, city, predicted_date):\n",
        "  if not isinstance(df.index, pd.DatetimeIndex):\n",
        "      df.index = pd.to_datetime(df.index)  # Convert index to DatetimeIndex if not already\n",
        "  df = df.reindex(pd.date_range(start=df.index.min(), end=df.index.max(), freq='D'), fill_value=np.nan)\n",
        "\n",
        "  # Fit the Exponential Smoothing model\n",
        "  exp_smoothing_model = ExponentialSmoothing(df['mean_max_temp'], trend='add', seasonal='add', seasonal_periods=12)\n",
        "  exp_smoothing_result = exp_smoothing_model.fit()\n",
        "\n",
        "  # Calculate the number of days to forecast\n",
        "  last_date = df.index[-1]\n",
        "  target_date = pd.to_datetime(predicted_date)\n",
        "  steps = (target_date - last_date).days\n",
        "\n",
        "  # Forecast for the required number of days\n",
        "  forecast = exp_smoothing_result.forecast(steps=steps)\n",
        "  forecast_dates = pd.date_range(start=last_date + pd.Timedelta(days=1), periods=steps, freq='D')\n",
        "  forecast_df = pd.DataFrame({'date': forecast_dates, 'forecast_temp': forecast})\n",
        "\n",
        "  # Get the forecasted temperature for the target date\n",
        "  predicted_temp = forecast_df.loc[forecast_df['date'] == target_date, 'forecast_temp'].values[0]\n",
        "  predicted_temp_fahrenheit = celsius_to_fahrenheit(predicted_temp)\n",
        "\n",
        "  print(f\"City: {city}\")\n",
        "  print(f\"Predicted highest temperature for {target_date.strftime('%Y-%m-%d')}: {predicted_temp_fahrenheit}°F\")\n",
        "  return predicted_temp_fahrenheit"
      ]
    },
    {
      "cell_type": "code",
      "execution_count": 20,
      "metadata": {
        "colab": {
          "base_uri": "https://localhost:8080/"
        },
        "id": "YQdpnebyyPf6",
        "outputId": "a614f81a-0213-4544-87da-df0af3c575f7"
      },
      "outputs": [
        {
          "name": "stdout",
          "output_type": "stream",
          "text": [
            "City: New York\n",
            "Predicted highest temperature for 2024-03-26: 47.24742640819551°F\n",
            "City: Chicago\n",
            "Predicted highest temperature for 2024-03-26: 49.08734860871222°F\n",
            "City: Austin\n",
            "Predicted highest temperature for 2024-03-26: 73.01778183742468°F\n",
            "City: Miami\n",
            "Predicted highest temperature for 2024-03-26: 76.94753398970391°F\n"
          ]
        },
        {
          "data": {
            "text/plain": [
              "76.94753398970391"
            ]
          },
          "execution_count": 20,
          "metadata": {},
          "output_type": "execute_result"
        }
      ],
      "source": [
        "ny_aggregate = create_aggregate_average_csv(\"ny\")\n",
        "chicago_aggregate = create_aggregate_average_csv(\"chicago\")\n",
        "austin_aggregate = create_aggregate_average_csv(\"austin\")\n",
        "miami_aggregate = create_aggregate_average_csv(\"miami\")\n",
        "\n",
        "exponentialSmoothing(ny_aggregate, \"New York\",\"2024-03-26\")\n",
        "exponentialSmoothing(chicago_aggregate, \"Chicago\",\"2024-03-26\")\n",
        "exponentialSmoothing(austin_aggregate, \"Austin\",\"2024-03-26\")\n",
        "exponentialSmoothing(miami_aggregate, \"Miami\",\"2024-03-26\")"
      ]
    },
    {
      "cell_type": "markdown",
      "metadata": {
        "id": "dwQDk3uo5Ows"
      },
      "source": [
        "## Step 3: Neural Network\n",
        "- more helpful than basic models but still less effective than statistical forecasting\n",
        "\n",
        "\n",
        "\n",
        "\n"
      ]
    },
    {
      "cell_type": "code",
      "execution_count": 21,
      "metadata": {},
      "outputs": [],
      "source": [
        "# from sklearn.preprocessing import MinMaxScaler\n",
        "# from tensorflow.keras.models import Sequential\n",
        "# from tensorflow.keras.layers import Dense, LSTM\n",
        "# from tensorflow.keras.preprocessing.sequence import TimeseriesGenerator\n",
        "\n",
        "# \"\"\"\n",
        "# The Kernel crashed while executing code in the current cell or a previous cell. \n",
        "# Please review the code in the cell(s) to identify a possible cause of the failure. \n",
        "# Click here for more info. \n",
        "# View Jupyter log for further details.\"\"\""
      ]
    },
    {
      "cell_type": "code",
      "execution_count": 22,
      "metadata": {
        "id": "DnC6ssKn5XO4"
      },
      "outputs": [],
      "source": [
        "def neuralNet(df,city):\n",
        "  # Normalize your data\n",
        "  scaler = MinMaxScaler(feature_range=(0, 1))\n",
        "  data_scaled = scaler.fit_transform(ny_aggregate['mean_max_temp'].values.reshape(-1,1))\n",
        "\n",
        "  # Parameters\n",
        "  n_input = 14\n",
        "  n_features = 1\n",
        "  batch_size = 1\n",
        "\n",
        "  # Prepare the TimeseriesGenerator\n",
        "  generator = TimeseriesGenerator(data_scaled, data_scaled, length=n_input, batch_size=batch_size)\n",
        "\n",
        "  # Define the model\n",
        "  model = Sequential([\n",
        "      LSTM(100, activation='relu', input_shape=(n_input, n_features)),\n",
        "      Dense(1)\n",
        "  ])\n",
        "  model.compile(optimizer='adam', loss='mse')\n",
        "\n",
        "  # Fit the model\n",
        "  model.fit(generator, epochs=20)\n",
        "\n",
        "  # Making a prediction for the next day requires the last `n_input` days.\n",
        "  last_sequence = data_scaled[-n_input:].reshape((1, n_input, n_features))\n",
        "  predicted_temp_scaled = model.predict(last_sequence)\n",
        "  predicted_temp = scaler.inverse_transform(predicted_temp_scaled)\n",
        "  result = celsius_to_fahrenheit(predicted_temp[0][0])\n",
        "  print(f\"City: {city}\")\n",
        "  print(f\"Predicted max temperature: {result:.2f}°F\")\n",
        "  return result"
      ]
    },
    {
      "cell_type": "code",
      "execution_count": 23,
      "metadata": {
        "colab": {
          "base_uri": "https://localhost:8080/"
        },
        "id": "SQuNdtzA5uKf",
        "outputId": "86da2b23-c01c-4d33-d0f1-bebcbac05419"
      },
      "outputs": [],
      "source": [
        "# ny_aggregate = create_aggregate_average_csv(\"ny\")\n",
        "# chicago_aggregate = create_aggregate_average_csv(\"chicago\")\n",
        "# austin_aggregate = create_aggregate_average_csv(\"austin\")\n",
        "# miami_aggregate = create_aggregate_average_csv(\"miami\")\n",
        "\n",
        "# neuralNet(ny_aggregate, \"New York\")\n",
        "# neuralNet(chicago_aggregate, \"Chicago\")\n",
        "# neuralNet(austin_aggregate, \"Austin\")\n",
        "# neuralNet(miami_aggregate, \"Miami\")\n",
        "\n"
      ]
    },
    {
      "cell_type": "markdown",
      "metadata": {
        "id": "-UlUlNLUJawX"
      },
      "source": [
        "# Part 4: Automizing by Using Kalshi Api\n"
      ]
    },
    {
      "cell_type": "code",
      "execution_count": 24,
      "metadata": {
        "colab": {
          "base_uri": "https://localhost:8080/"
        },
        "id": "b_caJvp5Iz8Q",
        "outputId": "3916118c-5c21-4095-a8df-31ef19d1edcb"
      },
      "outputs": [
        {
          "name": "stdout",
          "output_type": "stream",
          "text": [
            "Requirement already satisfied: kalshi_python in /Users/feng/opt/anaconda3/lib/python3.9/site-packages (2.0.0)\n",
            "Requirement already satisfied: python-dateutil in /Users/feng/opt/anaconda3/lib/python3.9/site-packages (from kalshi_python) (2.8.2)\n",
            "Requirement already satisfied: urllib3>=1.15 in /Users/feng/opt/anaconda3/lib/python3.9/site-packages (from kalshi_python) (2.0.7)\n",
            "Requirement already satisfied: six>=1.10 in /Users/feng/opt/anaconda3/lib/python3.9/site-packages (from kalshi_python) (1.16.0)\n",
            "Requirement already satisfied: certifi in /Users/feng/opt/anaconda3/lib/python3.9/site-packages (from kalshi_python) (2021.10.8)\n"
          ]
        }
      ],
      "source": [
        "!pip install kalshi_python"
      ]
    },
    {
      "cell_type": "markdown",
      "metadata": {
        "id": "M0SrsfSbeJvV"
      },
      "source": [
        "## Step 1: Setting Up Connection"
      ]
    },
    {
      "cell_type": "code",
      "execution_count": 25,
      "metadata": {
        "colab": {
          "base_uri": "https://localhost:8080/"
        },
        "id": "Hh1FyPpMICAG",
        "outputId": "688054e4-5298-4faf-913d-6c9ae6f4ae62"
      },
      "outputs": [
        {
          "name": "stdout",
          "output_type": "stream",
          "text": [
            "Exchange status response: \n",
            "{'exchange_active': True, 'trading_active': True}\n"
          ]
        }
      ],
      "source": [
        "import uuid\n",
        "import kalshi_python\n",
        "from kalshi_python.models import *\n",
        "from pprint import pprint\n",
        "\n",
        "config = kalshi_python.Configuration()\n",
        "# Comment the line below to use production\n",
        "config.host = 'https://demo-api.kalshi.co/trade-api/v2'\n",
        "\n",
        "# Create an API configuration passing your credentials.\n",
        "# Use this if you want the kalshi_python sdk to manage the authentication for you.\n",
        "kalshi_api = kalshi_python.ApiInstance(\n",
        "    email='myfeng@bu.edu',\n",
        "    password='qweR123123@',\n",
        "    configuration=config,\n",
        ")\n",
        "\n",
        "# Checks if the exchange is available.\n",
        "exchangeStatus = kalshi_api.get_exchange_status()\n",
        "print('Exchange status response: ')\n",
        "pprint(exchangeStatus)"
      ]
    },
    {
      "cell_type": "markdown",
      "metadata": {
        "id": "ybZnnlaReSha"
      },
      "source": [
        "## Step 2: Getting Ticker for four Events"
      ]
    },
    {
      "cell_type": "code",
      "execution_count": 26,
      "metadata": {
        "id": "mScGUsD0RQNW"
      },
      "outputs": [],
      "source": [
        "def getTicker(city,date):\n",
        "  eventTicker = f'HIGH{city}-{date}'\n",
        "  eventResponse = kalshi_api.get_event(eventTicker)\n",
        "  ticker = {}\n",
        "  for item in eventResponse.markets:\n",
        "    ticker[item.subtitle] = item.ticker\n",
        "  return ticker"
      ]
    },
    {
      "cell_type": "code",
      "execution_count": 27,
      "metadata": {
        "colab": {
          "base_uri": "https://localhost:8080/"
        },
        "id": "wiwaAzk4SGej",
        "outputId": "8b252031-014a-454c-f7cd-2939b1cab04d"
      },
      "outputs": [
        {
          "name": "stdout",
          "output_type": "stream",
          "text": [
            "{'51° or below': 'HIGHNY-24MAR27-T52',\n",
            " '52° to 53°': 'HIGHNY-24MAR27-B52.5',\n",
            " '54° to 55°': 'HIGHNY-24MAR27-B54.5',\n",
            " '56° to 57°': 'HIGHNY-24MAR27-B56.5',\n",
            " '58° to 59°': 'HIGHNY-24MAR27-B58.5',\n",
            " '60° or above': 'HIGHNY-24MAR27-T59'}\n",
            "{'38° or below': 'HIGHCHI-24MAR27-T39',\n",
            " '39° to 40°': 'HIGHCHI-24MAR27-B39.5',\n",
            " '41° to 42°': 'HIGHCHI-24MAR27-B41.5',\n",
            " '43° to 44°': 'HIGHCHI-24MAR27-B43.5',\n",
            " '45° to 46°': 'HIGHCHI-24MAR27-B45.5',\n",
            " '47° or above': 'HIGHCHI-24MAR27-T46'}\n",
            "{'67° or below': 'HIGHAUS-24MAR27-T68',\n",
            " '68° to 69°': 'HIGHAUS-24MAR27-B68.5',\n",
            " '70° to 71°': 'HIGHAUS-24MAR27-B70.5',\n",
            " '72° to 73°': 'HIGHAUS-24MAR27-B72.5',\n",
            " '74° to 75°': 'HIGHAUS-24MAR27-B74.5',\n",
            " '76° or above': 'HIGHAUS-24MAR27-T75'}\n",
            "{'77° or below': 'HIGHMIA-24MAR27-T78',\n",
            " '78° to 79°': 'HIGHMIA-24MAR27-B78.5',\n",
            " '80° to 81°': 'HIGHMIA-24MAR27-B80.5',\n",
            " '82° to 83°': 'HIGHMIA-24MAR27-B82.5',\n",
            " '84° to 85°': 'HIGHMIA-24MAR27-B84.5',\n",
            " '86° or above': 'HIGHMIA-24MAR27-T85'}\n"
          ]
        }
      ],
      "source": [
        "ny_ticker = getTicker(\"NY\",\"24MAR27\")\n",
        "aus_ticker = getTicker(\"AUS\",\"24MAR27\")\n",
        "chi_ticker = getTicker(\"CHI\",\"24MAR27\")\n",
        "mia_ticker = getTicker(\"MIA\",\"24MAR27\")\n",
        "\n",
        "pprint(ny_ticker)\n",
        "pprint(chi_ticker)\n",
        "pprint(aus_ticker)\n",
        "pprint(mia_ticker)"
      ]
    },
    {
      "cell_type": "markdown",
      "metadata": {
        "id": "P5ZfBmujeazu"
      },
      "source": [
        "## Step 3: Obtain the Predicted Maximum Temperature for a Specific Date\n",
        "- Begin by generating the Aggregate CSV file, as outlined in Part 2.\n",
        "- Next, utilize the SARIMA model to forecast the actual maximum temperature for the desired date."
      ]
    },
    {
      "cell_type": "code",
      "execution_count": 28,
      "metadata": {
        "id": "4DJXerb5W-9L"
      },
      "outputs": [],
      "source": [
        "def getMaxTempResult(date):\n",
        "  ny_aggregate = create_aggregate_average_csv(\"ny\")\n",
        "  chicago_aggregate = create_aggregate_average_csv(\"chicago\")\n",
        "  austin_aggregate = create_aggregate_average_csv(\"austin\")\n",
        "  miami_aggregate = create_aggregate_average_csv(\"miami\")\n",
        "\n",
        "  result = {}\n",
        "  result[\"ny\"] = SARIMA(ny_aggregate, \"New York\",date)\n",
        "  result[\"chi\"] = SARIMA(chicago_aggregate, \"Chicago\",date)\n",
        "  result[\"aus\"] = SARIMA(austin_aggregate, \"Austin\",date)\n",
        "  result[\"mia\"] = SARIMA(miami_aggregate, \"Miami\",date)\n",
        "  return result"
      ]
    },
    {
      "cell_type": "code",
      "execution_count": 29,
      "metadata": {
        "colab": {
          "base_uri": "https://localhost:8080/"
        },
        "id": "6k6xjP8-XKve",
        "outputId": "a76e4fb4-d250-4f5f-8e12-79f666271605"
      },
      "outputs": [
        {
          "name": "stdout",
          "output_type": "stream",
          "text": [
            "RUNNING THE L-BFGS-B CODE\n",
            "\n",
            "           * * *\n",
            "\n",
            "Machine precision = 2.220D-16\n",
            " N =            5     M =           10\n",
            "\n",
            "At X0         0 variables are exactly at the bounds\n",
            "\n",
            "At iterate    0    f=  2.57533D+00    |proj g|=  8.73394D-02\n",
            "\n",
            "At iterate    5    f=  2.45537D+00    |proj g|=  3.33899D-02\n"
          ]
        },
        {
          "name": "stderr",
          "output_type": "stream",
          "text": [
            " This problem is unconstrained.\n"
          ]
        },
        {
          "name": "stdout",
          "output_type": "stream",
          "text": [
            "\n",
            "At iterate   10    f=  2.43557D+00    |proj g|=  1.25861D-03\n",
            "\n",
            "At iterate   15    f=  2.43528D+00    |proj g|=  5.46830D-04\n",
            "\n",
            "At iterate   20    f=  2.43528D+00    |proj g|=  1.59575D-05\n",
            "\n",
            "           * * *\n",
            "\n",
            "Tit   = total number of iterations\n",
            "Tnf   = total number of function evaluations\n",
            "Tnint = total number of segments explored during Cauchy searches\n",
            "Skip  = number of BFGS updates skipped\n",
            "Nact  = number of active bounds at final generalized Cauchy point\n",
            "Projg = norm of the final projected gradient\n",
            "F     = final function value\n",
            "\n",
            "           * * *\n",
            "\n",
            "   N    Tit     Tnf  Tnint  Skip  Nact     Projg        F\n",
            "    5     21     24      1     0     0   4.230D-06   2.435D+00\n",
            "  F =   2.4352821414714656     \n",
            "\n",
            "CONVERGENCE: NORM_OF_PROJECTED_GRADIENT_<=_PGTOL            \n",
            "City: New York\n",
            "Predicted highest temperature for 2024-03-26: 48.246463122609505°F\n",
            "RUNNING THE L-BFGS-B CODE\n",
            "\n",
            "           * * *\n",
            "\n",
            "Machine precision = 2.220D-16\n",
            " N =            5     M =           10\n",
            "\n",
            "At X0         0 variables are exactly at the bounds\n",
            "\n",
            "At iterate    0    f=  2.76747D+00    |proj g|=  6.91873D-02\n",
            "\n",
            "At iterate    5    f=  2.66237D+00    |proj g|=  3.41077D-02\n"
          ]
        },
        {
          "name": "stderr",
          "output_type": "stream",
          "text": [
            " This problem is unconstrained.\n"
          ]
        },
        {
          "name": "stdout",
          "output_type": "stream",
          "text": [
            "\n",
            "At iterate   10    f=  2.64689D+00    |proj g|=  3.19670D-03\n",
            "\n",
            "At iterate   15    f=  2.64565D+00    |proj g|=  3.32824D-03\n",
            "\n",
            "At iterate   20    f=  2.64519D+00    |proj g|=  1.45776D-03\n",
            "\n",
            "At iterate   25    f=  2.64514D+00    |proj g|=  6.58388D-04\n",
            "\n",
            "At iterate   30    f=  2.64513D+00    |proj g|=  1.20790D-04\n",
            "\n",
            "At iterate   35    f=  2.64513D+00    |proj g|=  1.21945D-04\n",
            "\n",
            "           * * *\n",
            "\n",
            "Tit   = total number of iterations\n",
            "Tnf   = total number of function evaluations\n",
            "Tnint = total number of segments explored during Cauchy searches\n",
            "Skip  = number of BFGS updates skipped\n",
            "Nact  = number of active bounds at final generalized Cauchy point\n",
            "Projg = norm of the final projected gradient\n",
            "F     = final function value\n",
            "\n",
            "           * * *\n",
            "\n",
            "   N    Tit     Tnf  Tnint  Skip  Nact     Projg        F\n",
            "    5     36     41      1     0     0   7.965D-06   2.645D+00\n",
            "  F =   2.6451283757468227     \n",
            "\n",
            "CONVERGENCE: NORM_OF_PROJECTED_GRADIENT_<=_PGTOL            \n",
            "City: Chicago\n",
            "Predicted highest temperature for 2024-03-26: 51.001582854427554°F\n",
            "RUNNING THE L-BFGS-B CODE\n",
            "\n",
            "           * * *\n",
            "\n",
            "Machine precision = 2.220D-16\n",
            " N =            5     M =           10\n",
            "\n",
            "At X0         0 variables are exactly at the bounds\n",
            "\n",
            "At iterate    0    f=  2.56434D+00    |proj g|=  7.22536D-02\n",
            "\n",
            "At iterate    5    f=  2.45800D+00    |proj g|=  3.82195D-02\n"
          ]
        },
        {
          "name": "stderr",
          "output_type": "stream",
          "text": [
            " This problem is unconstrained.\n"
          ]
        },
        {
          "name": "stdout",
          "output_type": "stream",
          "text": [
            "\n",
            "At iterate   10    f=  2.42615D+00    |proj g|=  2.62158D-03\n",
            "\n",
            "At iterate   15    f=  2.42608D+00    |proj g|=  1.77880D-03\n",
            "\n",
            "At iterate   20    f=  2.42590D+00    |proj g|=  1.79456D-03\n",
            "\n",
            "At iterate   25    f=  2.42585D+00    |proj g|=  1.42340D-04\n",
            "\n",
            "At iterate   30    f=  2.42584D+00    |proj g|=  1.09327D-04\n",
            "\n",
            "At iterate   35    f=  2.42584D+00    |proj g|=  1.76162D-04\n",
            "\n",
            "           * * *\n",
            "\n",
            "Tit   = total number of iterations\n",
            "Tnf   = total number of function evaluations\n",
            "Tnint = total number of segments explored during Cauchy searches\n",
            "Skip  = number of BFGS updates skipped\n",
            "Nact  = number of active bounds at final generalized Cauchy point\n",
            "Projg = norm of the final projected gradient\n",
            "F     = final function value\n",
            "\n",
            "           * * *\n",
            "\n",
            "   N    Tit     Tnf  Tnint  Skip  Nact     Projg        F\n",
            "    5     35     39      1     0     0   1.762D-04   2.426D+00\n",
            "  F =   2.4258427790127284     \n",
            "\n",
            "CONVERGENCE: REL_REDUCTION_OF_F_<=_FACTR*EPSMCH             \n",
            "City: Austin\n",
            "Predicted highest temperature for 2024-03-26: 72.5012849942897°F\n",
            "RUNNING THE L-BFGS-B CODE\n",
            "\n",
            "           * * *\n",
            "\n",
            "Machine precision = 2.220D-16\n",
            " N =            5     M =           10\n",
            "\n",
            "At X0         0 variables are exactly at the bounds\n",
            "\n",
            "At iterate    0    f=  1.89540D+00    |proj g|=  1.62015D-01\n",
            "\n",
            "At iterate    5    f=  1.76095D+00    |proj g|=  4.78821D-02\n"
          ]
        },
        {
          "name": "stderr",
          "output_type": "stream",
          "text": [
            " This problem is unconstrained.\n"
          ]
        },
        {
          "name": "stdout",
          "output_type": "stream",
          "text": [
            "\n",
            "At iterate   10    f=  1.72119D+00    |proj g|=  1.01555D-03\n",
            "\n",
            "At iterate   15    f=  1.72118D+00    |proj g|=  8.60416D-04\n",
            "\n",
            "At iterate   20    f=  1.72111D+00    |proj g|=  9.88733D-04\n",
            "\n",
            "At iterate   25    f=  1.72110D+00    |proj g|=  2.64585D-04\n",
            "\n",
            "At iterate   30    f=  1.72110D+00    |proj g|=  5.49582D-04\n",
            "\n",
            "           * * *\n",
            "\n",
            "Tit   = total number of iterations\n",
            "Tnf   = total number of function evaluations\n",
            "Tnint = total number of segments explored during Cauchy searches\n",
            "Skip  = number of BFGS updates skipped\n",
            "Nact  = number of active bounds at final generalized Cauchy point\n",
            "Projg = norm of the final projected gradient\n",
            "F     = final function value\n",
            "\n",
            "           * * *\n",
            "\n",
            "   N    Tit     Tnf  Tnint  Skip  Nact     Projg        F\n",
            "    5     32     43      1     0     0   7.183D-05   1.721D+00\n",
            "  F =   1.7210974628729923     \n",
            "\n",
            "CONVERGENCE: REL_REDUCTION_OF_F_<=_FACTR*EPSMCH             \n",
            "City: Miami\n",
            "Predicted highest temperature for 2024-03-26: 77.98719366664133°F\n",
            "{'ny': 48.246463122609505, 'chi': 51.001582854427554, 'aus': 72.5012849942897, 'mia': 77.98719366664133}\n"
          ]
        }
      ],
      "source": [
        "result = getMaxTempResult(\"2024-03-26\")\n",
        "print(result)"
      ]
    },
    {
      "cell_type": "markdown",
      "metadata": {
        "id": "5F4Sctjye_KB"
      },
      "source": [
        "## Step 4: Associate the Predicted Temperature with a Specific Market Ticker\n",
        "- For example, if the predicted temperature for New York is 48.24 f, the corresponding market ticker would be \"HIGHNY-24MAR27-T52\". This is based on the New York market ticker information retrieved from the Kalshi API, which indicates that \"51° or below\" is represented by this particular ticker."
      ]
    },
    {
      "cell_type": "code",
      "execution_count": 30,
      "metadata": {
        "id": "xOTWUf-FX4PJ"
      },
      "outputs": [],
      "source": [
        "def mapMaxTempToTicker(max_temp, ticker):\n",
        "    rounded_temp = round(max_temp)\n",
        "\n",
        "    for temp_range, ticker_value in ticker.items():\n",
        "        # Split the range into lower and upper bounds\n",
        "        if ' or above' in temp_range:\n",
        "            lower_bound = int(temp_range.split('°')[0])\n",
        "            if rounded_temp >= lower_bound:\n",
        "                return ticker_value\n",
        "        elif ' or below' in temp_range:\n",
        "            upper_bound = int(temp_range.split('°')[0])\n",
        "            if rounded_temp <= upper_bound:\n",
        "                return ticker_value\n",
        "        else:\n",
        "            bounds = temp_range.split('° to ')\n",
        "            lower_bound = int(bounds[0])\n",
        "            upper_bound = int(bounds[1].split('°')[0])\n",
        "            if lower_bound <= rounded_temp <= upper_bound:\n",
        "                return ticker_value\n",
        "\n",
        "    # Return None if the temperature doesn't fit any range\n",
        "    return None\n"
      ]
    },
    {
      "cell_type": "code",
      "execution_count": 31,
      "metadata": {
        "colab": {
          "base_uri": "https://localhost:8080/"
        },
        "id": "zHoE94biYITC",
        "outputId": "a4e9dc63-e766-42df-fd15-4d568157a7f6"
      },
      "outputs": [
        {
          "name": "stdout",
          "output_type": "stream",
          "text": [
            "48.246463122609505 HIGHNY-24MAR27-T52\n",
            "51.001582854427554 HIGHCHI-24MAR27-T46\n",
            "72.5012849942897 HIGHAUS-24MAR27-B72.5\n",
            "77.98719366664133 HIGHMIA-24MAR27-B78.5\n"
          ]
        }
      ],
      "source": [
        "ny_marketTicker = mapMaxTempToTicker(result[\"ny\"],ny_ticker)\n",
        "chi_marketTicker = mapMaxTempToTicker(result[\"chi\"],chi_ticker)\n",
        "aus_marketTicker = mapMaxTempToTicker(result[\"aus\"],aus_ticker)\n",
        "mia_marketTicker = mapMaxTempToTicker(result[\"mia\"],mia_ticker)\n",
        "\n",
        "print(result[\"ny\"],ny_marketTicker)\n",
        "print(result[\"chi\"],chi_marketTicker)\n",
        "print(result[\"aus\"],aus_marketTicker)\n",
        "print(result[\"mia\"],mia_marketTicker)\n"
      ]
    },
    {
      "cell_type": "markdown",
      "metadata": {
        "id": "A7bjWuRnfh7b"
      },
      "source": [
        "## Step 5: Submit the Order Base on the Market Ticker"
      ]
    },
    {
      "cell_type": "code",
      "execution_count": 32,
      "metadata": {
        "id": "1z-tJXm5UXQy"
      },
      "outputs": [],
      "source": [
        "def submitOrder(marketTicker):\n",
        "  if exchangeStatus.trading_active:\n",
        "      # Submit an order for 10 yes contracts at 50cents on 'FED-23DEC-T3.00'.\n",
        "      orderUuid = str(uuid.uuid4())\n",
        "      orderResponse = kalshi_api.create_order(CreateOrderRequest(\n",
        "          ticker=marketTicker,\n",
        "          action='buy',\n",
        "          type='limit',\n",
        "          yes_price=50,\n",
        "          count=10,\n",
        "          client_order_id=orderUuid,\n",
        "          side='yes',\n",
        "      ))\n",
        "      print('\\nOrder submitted: ')\n",
        "      pprint(orderResponse)\n",
        "  else:\n",
        "      print('\\nThe exchange is not trading active, no orders will be sent right now.')"
      ]
    },
    {
      "cell_type": "markdown",
      "metadata": {
        "id": "kuih2FJaZokC"
      },
      "source": [
        "# Part 5: Automation / Putting Everything Together"
      ]
    },
    {
      "cell_type": "code",
      "execution_count": 33,
      "metadata": {
        "id": "GPhrPcTxZd_1"
      },
      "outputs": [],
      "source": [
        "from datetime import datetime\n",
        "def automation(date):\n",
        "  # get the prediction returned by SARIMA\n",
        "  result = getMaxTempResult(date)\n",
        "\n",
        "  print()\n",
        "  print(f\"prediction for {date}\")\n",
        "  print(result)\n",
        "\n",
        "  # get the market ticker for that day\n",
        "  date_obj = datetime.strptime(date, '%Y-%m-%d')        # transform from 2024-4-27 to 27MAR24\n",
        "  ticker_date = date_obj.strftime('%y%b%d').upper()\n",
        "\n",
        "  ny_ticker = getTicker(\"NY\",ticker_date)\n",
        "  aus_ticker = getTicker(\"AUS\",ticker_date)\n",
        "  chi_ticker = getTicker(\"CHI\",ticker_date)\n",
        "  mia_ticker = getTicker(\"MIA\",ticker_date)\n",
        "\n",
        "  print()\n",
        "  print(\"ticker:\")\n",
        "  print(ny_ticker)\n",
        "  print(chi_ticker)\n",
        "  print(aus_ticker)\n",
        "  print(mia_ticker)\n",
        "\n",
        "  # get market ticker base on the prediction: ie, if the prediction is 78f, then we want to find the correct market ticker to submit order\n",
        "  ny_marketTicker = mapMaxTempToTicker(result[\"ny\"],ny_ticker)\n",
        "  chi_marketTicker = mapMaxTempToTicker(result[\"chi\"],chi_ticker)\n",
        "  aus_marketTicker = mapMaxTempToTicker(result[\"aus\"],aus_ticker)\n",
        "  mia_marketTicker = mapMaxTempToTicker(result[\"mia\"],mia_ticker)\n",
        "\n",
        "  print()\n",
        "  print(\"market ticker:\")\n",
        "  print(result[\"ny\"],ny_marketTicker)\n",
        "  print(result[\"chi\"],chi_marketTicker)\n",
        "  print(result[\"aus\"],aus_marketTicker)\n",
        "  print(result[\"mia\"],mia_marketTicker)\n",
        "\n",
        "  # submit order base on the market ticker\n",
        "  submitOrder(ny_marketTicker)\n",
        "  submitOrder(chi_marketTicker)\n",
        "  submitOrder(mia_marketTicker)\n",
        "  submitOrder(aus_marketTicker)\n"
      ]
    },
    {
      "cell_type": "markdown",
      "metadata": {},
      "source": [
        "# This is the only thing I need to run to submit an order\n",
        "# everyday, I just change the date and run the code"
      ]
    },
    {
      "cell_type": "code",
      "execution_count": 48,
      "metadata": {
        "colab": {
          "base_uri": "https://localhost:8080/",
          "height": 810
        },
        "id": "HFc45ytRawlJ",
        "outputId": "b4391bbd-7e33-4252-8249-e67abb3387f6"
      },
      "outputs": [
        {
          "name": "stdout",
          "output_type": "stream",
          "text": [
            "City: New York\n",
            "Predicted highest temperature for 2024-03-30: 49.08047525678438°F\n",
            "City: Chicago\n",
            "Predicted highest temperature for 2024-03-30: 50.58294338700139°F\n",
            "City: Austin\n",
            "Predicted highest temperature for 2024-03-30: 72.14658727157047°F\n",
            "City: Miami\n",
            "Predicted highest temperature for 2024-03-30: 80.20387073820264°F\n",
            "\n",
            "prediction for 2024-03-30\n",
            "{'ny': 49.08047525678438, 'chi': 50.58294338700139, 'aus': 72.14658727157047, 'mia': 80.20387073820264}\n",
            "\n",
            "ticker:\n",
            "{'54° or below': 'HIGHNY-24MAR30-T55', '55° to 56°': 'HIGHNY-24MAR30-B55.5', '57° to 58°': 'HIGHNY-24MAR30-B57.5', '59° to 60°': 'HIGHNY-24MAR30-B59.5', '61° to 62°': 'HIGHNY-24MAR30-B61.5', '63° or above': 'HIGHNY-24MAR30-T62'}\n",
            "{'54° or below': 'HIGHCHI-24MAR30-T55', '55° to 56°': 'HIGHCHI-24MAR30-B55.5', '57° to 58°': 'HIGHCHI-24MAR30-B57.5', '59° to 60°': 'HIGHCHI-24MAR30-B59.5', '61° to 62°': 'HIGHCHI-24MAR30-B61.5', '63° or above': 'HIGHCHI-24MAR30-T62'}\n",
            "{'74° or below': 'HIGHAUS-24MAR30-T75', '75° to 76°': 'HIGHAUS-24MAR30-B75.5', '77° to 78°': 'HIGHAUS-24MAR30-B77.5', '79° to 80°': 'HIGHAUS-24MAR30-B79.5', '81° to 82°': 'HIGHAUS-24MAR30-B81.5', '83° or above': 'HIGHAUS-24MAR30-T82'}\n",
            "{'72° or below': 'HIGHMIA-24MAR30-T73', '73° to 74°': 'HIGHMIA-24MAR30-B73.5', '75° to 76°': 'HIGHMIA-24MAR30-B75.5', '77° to 78°': 'HIGHMIA-24MAR30-B77.5', '79° to 80°': 'HIGHMIA-24MAR30-B79.5', '81° or above': 'HIGHMIA-24MAR30-T80'}\n",
            "\n",
            "market ticker:\n",
            "49.08047525678438 HIGHNY-24MAR30-T55\n",
            "50.58294338700139 HIGHCHI-24MAR30-T55\n",
            "72.14658727157047 HIGHAUS-24MAR30-T75\n",
            "80.20387073820264 HIGHMIA-24MAR30-B79.5\n",
            "\n",
            "Order submitted: \n",
            "{'order': {'action': 'buy',\n",
            "           'client_order_id': '22f3998f-dcfe-4e71-acc9-a421d7637fe2',\n",
            "           'created_time': '2024-03-29T15:49:01.826713Z',\n",
            "           'expiration_time': None,\n",
            "           'no_price': 50,\n",
            "           'order_id': '6603e5de-69bd-4174-bebb-8b794d72266b',\n",
            "           'side': 'yes',\n",
            "           'status': 'resting',\n",
            "           'ticker': 'HIGHNY-24MAR30-T55',\n",
            "           'type': 'limit',\n",
            "           'user_id': '3ac56984-9b76-456f-96c7-6dd2cd4134e8',\n",
            "           'yes_price': 50}}\n",
            "\n",
            "Order submitted: \n",
            "{'order': {'action': 'buy',\n",
            "           'client_order_id': '257a75dc-3309-4cdf-9fec-6d41b1876883',\n",
            "           'created_time': '2024-03-29T15:49:01.965063Z',\n",
            "           'expiration_time': None,\n",
            "           'no_price': 50,\n",
            "           'order_id': '87e9f62e-9afe-4928-afa6-638c1f525f23',\n",
            "           'side': 'yes',\n",
            "           'status': 'resting',\n",
            "           'ticker': 'HIGHCHI-24MAR30-T55',\n",
            "           'type': 'limit',\n",
            "           'user_id': '3ac56984-9b76-456f-96c7-6dd2cd4134e8',\n",
            "           'yes_price': 50}}\n",
            "\n",
            "Order submitted: \n",
            "{'order': {'action': 'buy',\n",
            "           'client_order_id': 'cc2f4a48-be7a-483a-8e6c-2ae466219a84',\n",
            "           'created_time': '2024-03-29T15:49:02.082155Z',\n",
            "           'expiration_time': None,\n",
            "           'no_price': 50,\n",
            "           'order_id': 'fb909623-dc4b-4681-ab86-f74d4dac557e',\n",
            "           'side': 'yes',\n",
            "           'status': 'resting',\n",
            "           'ticker': 'HIGHMIA-24MAR30-B79.5',\n",
            "           'type': 'limit',\n",
            "           'user_id': '3ac56984-9b76-456f-96c7-6dd2cd4134e8',\n",
            "           'yes_price': 50}}\n",
            "\n",
            "Order submitted: \n",
            "{'order': {'action': 'buy',\n",
            "           'client_order_id': '60912fb9-3408-459c-aef8-031048efe97b',\n",
            "           'created_time': '2024-03-29T15:49:02.199707Z',\n",
            "           'expiration_time': None,\n",
            "           'no_price': 50,\n",
            "           'order_id': 'f4ad7e82-5fea-4ab2-b0c0-68d9697e4c17',\n",
            "           'side': 'yes',\n",
            "           'status': 'resting',\n",
            "           'ticker': 'HIGHAUS-24MAR30-T75',\n",
            "           'type': 'limit',\n",
            "           'user_id': '3ac56984-9b76-456f-96c7-6dd2cd4134e8',\n",
            "           'yes_price': 50}}\n"
          ]
        }
      ],
      "source": [
        "automation(\"2024-03-30\")"
      ]
    }
  ],
  "metadata": {
    "colab": {
      "collapsed_sections": [
        "sL6RCD5eqtmS",
        "E8-Ij_9-jZRN",
        "KomJgkL3mhpm"
      ],
      "provenance": []
    },
    "kernelspec": {
      "display_name": "Python 3",
      "name": "python3"
    },
    "language_info": {
      "codemirror_mode": {
        "name": "ipython",
        "version": 3
      },
      "file_extension": ".py",
      "mimetype": "text/x-python",
      "name": "python",
      "nbconvert_exporter": "python",
      "pygments_lexer": "ipython3",
      "version": "3.9.12"
    }
  },
  "nbformat": 4,
  "nbformat_minor": 0
}
